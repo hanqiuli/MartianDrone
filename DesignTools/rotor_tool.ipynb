{
 "cells": [
  {
   "cell_type": "markdown",
   "metadata": {},
   "source": [
    "## Rotor iteration tool"
   ]
  },
  {
   "cell_type": "code",
   "execution_count": 98,
   "metadata": {},
   "outputs": [],
   "source": [
    "# Import\n",
    "\n",
    "import numpy as np\n",
    "import matplotlib.pyplot as plt"
   ]
  },
  {
   "cell_type": "code",
   "execution_count": 99,
   "metadata": {},
   "outputs": [],
   "source": [
    "# Define atmospheric constants\n",
    "rho = 0.017 # kg/m^3\n",
    "g = 3.71 # m/s^2\n",
    "a = 233.1 # m/s\n",
    "T = 213.15 # K\n",
    "Re_min = 10000\n",
    "Re_max = 50000\n",
    "mu = 1.13e-5 # Ns/m^2\n",
    "\n",
    "#Define design parameters\n",
    "M_tip = 0.7 # Tip Mach number\n",
    "N = 6 # Number of ROTORS\n",
    "N_blades = 2 # Number of blades per rotor\n",
    "T_W_max = 1.2 # Thrust margin\n",
    "T_A_disk = 8.5 # Disk loading [N/m^2]\n",
    "\n",
    "# Define aerodynamic constants for rotor\n",
    "cl_mean = 0.66 # Mean lift coefficient\n",
    "cd_mean = 0.03 # Mean drag coefficient\n",
    "k_hover = 1.2 # induced/ideal power ratio\n",
    "ct_sigma = 0.115 \n",
    "\n",
    "# Define flight time and battery specific energy\n",
    "T_flight = 1800 # seconds\n",
    "E_bat = 250 # Wh/kg\n",
    "\n",
    "# Define mass constants\n",
    "# Note that these can be changed as needed\n",
    "\n",
    "m_payload = 11.87\n",
    "m_avionics = 4.05\n",
    "m_comms = 2.9\n",
    "m_struct = 29.75\n",
    "m_solar = 4\n",
    "\n",
    "# Define variable masses\n",
    "\n",
    "m_bat = 14\n",
    "m_motor = 3\n",
    "m_rotors = 12.66"
   ]
  },
  {
   "cell_type": "code",
   "execution_count": 100,
   "metadata": {},
   "outputs": [],
   "source": [
    "# Define relevant functions\n",
    "\n",
    "def calculate_V_tip(M_tip, a):\n",
    "    return M_tip * a\n",
    "\n",
    "def required_params_per_rotor(m_drone, g, N_rotor, disk_loading, thrust_margin):\n",
    "    W = m_drone * g\n",
    "    T_req = W * thrust_margin / N_rotor\n",
    "    A_disk = T_req / disk_loading\n",
    "    r_disk = np.sqrt(A_disk / np.pi)\n",
    "\n",
    "    return W, T_req, A_disk, r_disk\n",
    "\n",
    "def calculate_A_blade(V_tip, ct_sigma, T_req, rho):\n",
    "    return T_req / (rho * ct_sigma * V_tip**2)\n",
    "\n",
    "def calculate_ct_and_solidity(A_disk, rho, V_tip, T_req, ct_sigma):\n",
    "     ct = T_req / (A_disk * rho * V_tip**2)\n",
    "     sigma = ct / ct_sigma\n",
    "     return ct, sigma\n",
    "\n",
    "def calculate_omega(V_tip, r_disk):\n",
    "    return V_tip / r_disk\n",
    "\n",
    "def calculate_power_per_rotor(k_hover, T_req, rho, A_disk, A_blade, V_tip, cd_mean):\n",
    "    P = k_hover * T_req * np.sqrt((T_req)/(2*rho*A_disk)) + rho * A_blade * V_tip**3 * cd_mean * (1/8)\n",
    "    return P\n",
    "\n",
    "def calculate_power_total(P_rotor, N_rotor):\n",
    "    return P_rotor * N_rotor\n",
    "\n",
    "def calculate_total_energy(P_total, T_flight):\n",
    "    return (P_total * T_flight) / 3600 # Convert to Wh\n",
    "\n",
    "def calculate_battery_mass(E_total, E_specific):\n",
    "    return E_total / E_specific\n",
    "\n",
    "def calculate_motor_mass(P_total):\n",
    "    return 0.432/1000 * P_total\n"
   ]
  },
  {
   "cell_type": "code",
   "execution_count": 101,
   "metadata": {},
   "outputs": [],
   "source": [
    "# Iterate battery mass only\n",
    "m_drone = m_payload + m_avionics + m_comms + m_struct + m_solar + m_bat + m_motor + m_rotors\n",
    "m_drone_estimate = 0\n",
    "i = 0\n",
    "\n",
    "while np.abs(m_drone - m_drone_estimate) > 0.0001 and i < 1000:\n",
    "\n",
    "    # perform calculations...\n",
    "    W, T_req, A_disk, r_disk = required_params_per_rotor(m_drone, g, N, T_A_disk, T_W_max)\n",
    "    V_tip = calculate_V_tip(M_tip, a)\n",
    "    A_blade = calculate_A_blade(V_tip, ct_sigma, T_req, rho)\n",
    "    ct, sigma = calculate_ct_and_solidity(A_disk, rho, V_tip, T_req, ct_sigma)\n",
    "    omega = calculate_omega(V_tip, r_disk)\n",
    "    P_rotor = calculate_power_per_rotor(k_hover, T_req, rho, A_disk, A_blade, V_tip, cd_mean)\n",
    "    P_total = calculate_power_total(P_rotor, N)\n",
    "    E_total = calculate_total_energy(P_total, T_flight)\n",
    "    m_bat = calculate_battery_mass(E_total, E_bat)\n",
    "\n",
    "    # update drone mass estimate\n",
    "    m_drone_estimate = m_payload + m_avionics + m_comms + m_struct + m_solar + m_bat + m_motor + m_rotors\n",
    "    i += 1"
   ]
  }
 ],
 "metadata": {
  "kernelspec": {
   "display_name": "Python 3",
   "language": "python",
   "name": "python3"
  },
  "language_info": {
   "codemirror_mode": {
    "name": "ipython",
    "version": 3
   },
   "file_extension": ".py",
   "mimetype": "text/x-python",
   "name": "python",
   "nbconvert_exporter": "python",
   "pygments_lexer": "ipython3",
   "version": "3.11.5"
  }
 },
 "nbformat": 4,
 "nbformat_minor": 2
}
